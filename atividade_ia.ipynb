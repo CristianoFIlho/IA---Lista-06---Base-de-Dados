{
  "nbformat": 4,
  "nbformat_minor": 0,
  "metadata": {
    "colab": {
      "provenance": [],
      "include_colab_link": true
    },
    "kernelspec": {
      "name": "python3",
      "display_name": "Python 3"
    },
    "language_info": {
      "name": "python"
    }
  },
  "cells": [
    {
      "cell_type": "markdown",
      "metadata": {
        "id": "view-in-github",
        "colab_type": "text"
      },
      "source": [
        "<a href=\"https://colab.research.google.com/github/CristianoFIlho/IA---Lista-06---Base-de-Dados/blob/main/atividade_ia.ipynb\" target=\"_parent\"><img src=\"https://colab.research.google.com/assets/colab-badge.svg\" alt=\"Open In Colab\"/></a>"
      ]
    },
    {
      "cell_type": "markdown",
      "source": [
        "1) Baixar a base de dados digits da ferramenta scikit-learn\n",
        "a) Mostrar os atributos da base de dados\n",
        "\n",
        "b) Informar o tamanho da base de dados\n",
        "\n",
        "c) Listar as 10 primeiras amostras\n",
        "\n",
        "d) Enviar o script e print com a execução "
      ],
      "metadata": {
        "id": "xqAbulnHsL10"
      }
    },
    {
      "cell_type": "code",
      "execution_count": null,
      "metadata": {
        "colab": {
          "base_uri": "https://localhost:8080/"
        },
        "id": "sxgDaz6JHULv",
        "outputId": "b92ac931-fc75-4427-9738-eb61b88d2946"
      },
      "outputs": [
        {
          "output_type": "stream",
          "name": "stdout",
          "text": [
            "Looking in indexes: https://pypi.org/simple, https://us-python.pkg.dev/colab-wheels/public/simple/\n",
            "Requirement already satisfied: scikit-learn in /usr/local/lib/python3.9/dist-packages (1.2.2)\n",
            "Requirement already satisfied: threadpoolctl>=2.0.0 in /usr/local/lib/python3.9/dist-packages (from scikit-learn) (3.1.0)\n",
            "Requirement already satisfied: scipy>=1.3.2 in /usr/local/lib/python3.9/dist-packages (from scikit-learn) (1.10.1)\n",
            "Requirement already satisfied: joblib>=1.1.1 in /usr/local/lib/python3.9/dist-packages (from scikit-learn) (1.2.0)\n",
            "Requirement already satisfied: numpy>=1.17.3 in /usr/local/lib/python3.9/dist-packages (from scikit-learn) (1.22.4)\n"
          ]
        }
      ],
      "source": [
        "pip install scikit-learn"
      ]
    },
    {
      "cell_type": "code",
      "source": [
        "\n",
        "from sklearn.datasets import load_digits\n",
        "\n",
        "\n",
        "digits = load_digits()\n",
        "\n",
        "\n",
        "print(\"Atributos da base de dados:\\n\", list(digits.keys()))\n",
        "\n",
        "\n",
        "n_samples, n_features = digits.data.shape\n",
        "print(f\"\\nTamanho da base de dados:\\nNúmero de amostras: {n_samples}\\nNúmero de atributos: {n_features}\")\n",
        "\n",
        "\n",
        "print(\"\\n10 primeiras amostras:\")\n",
        "print(digits.data[:10])\n",
        "\n"
      ],
      "metadata": {
        "colab": {
          "base_uri": "https://localhost:8080/"
        },
        "id": "J0Au5r8OrU-m",
        "outputId": "464b8fea-41a8-4e5c-a0c6-91ea260d4098"
      },
      "execution_count": null,
      "outputs": [
        {
          "output_type": "stream",
          "name": "stdout",
          "text": [
            "Atributos da base de dados:\n",
            " ['data', 'target', 'frame', 'feature_names', 'target_names', 'images', 'DESCR']\n",
            "\n",
            "Tamanho da base de dados:\n",
            "Número de amostras: 1797\n",
            "Número de atributos: 64\n",
            "\n",
            "10 primeiras amostras:\n",
            "[[ 0.  0.  5. 13.  9.  1.  0.  0.  0.  0. 13. 15. 10. 15.  5.  0.  0.  3.\n",
            "  15.  2.  0. 11.  8.  0.  0.  4. 12.  0.  0.  8.  8.  0.  0.  5.  8.  0.\n",
            "   0.  9.  8.  0.  0.  4. 11.  0.  1. 12.  7.  0.  0.  2. 14.  5. 10. 12.\n",
            "   0.  0.  0.  0.  6. 13. 10.  0.  0.  0.]\n",
            " [ 0.  0.  0. 12. 13.  5.  0.  0.  0.  0.  0. 11. 16.  9.  0.  0.  0.  0.\n",
            "   3. 15. 16.  6.  0.  0.  0.  7. 15. 16. 16.  2.  0.  0.  0.  0.  1. 16.\n",
            "  16.  3.  0.  0.  0.  0.  1. 16. 16.  6.  0.  0.  0.  0.  1. 16. 16.  6.\n",
            "   0.  0.  0.  0.  0. 11. 16. 10.  0.  0.]\n",
            " [ 0.  0.  0.  4. 15. 12.  0.  0.  0.  0.  3. 16. 15. 14.  0.  0.  0.  0.\n",
            "   8. 13.  8. 16.  0.  0.  0.  0.  1.  6. 15. 11.  0.  0.  0.  1.  8. 13.\n",
            "  15.  1.  0.  0.  0.  9. 16. 16.  5.  0.  0.  0.  0.  3. 13. 16. 16. 11.\n",
            "   5.  0.  0.  0.  0.  3. 11. 16.  9.  0.]\n",
            " [ 0.  0.  7. 15. 13.  1.  0.  0.  0.  8. 13.  6. 15.  4.  0.  0.  0.  2.\n",
            "   1. 13. 13.  0.  0.  0.  0.  0.  2. 15. 11.  1.  0.  0.  0.  0.  0.  1.\n",
            "  12. 12.  1.  0.  0.  0.  0.  0.  1. 10.  8.  0.  0.  0.  8.  4.  5. 14.\n",
            "   9.  0.  0.  0.  7. 13. 13.  9.  0.  0.]\n",
            " [ 0.  0.  0.  1. 11.  0.  0.  0.  0.  0.  0.  7.  8.  0.  0.  0.  0.  0.\n",
            "   1. 13.  6.  2.  2.  0.  0.  0.  7. 15.  0.  9.  8.  0.  0.  5. 16. 10.\n",
            "   0. 16.  6.  0.  0.  4. 15. 16. 13. 16.  1.  0.  0.  0.  0.  3. 15. 10.\n",
            "   0.  0.  0.  0.  0.  2. 16.  4.  0.  0.]\n",
            " [ 0.  0. 12. 10.  0.  0.  0.  0.  0.  0. 14. 16. 16. 14.  0.  0.  0.  0.\n",
            "  13. 16. 15. 10.  1.  0.  0.  0. 11. 16. 16.  7.  0.  0.  0.  0.  0.  4.\n",
            "   7. 16.  7.  0.  0.  0.  0.  0.  4. 16.  9.  0.  0.  0.  5.  4. 12. 16.\n",
            "   4.  0.  0.  0.  9. 16. 16. 10.  0.  0.]\n",
            " [ 0.  0.  0. 12. 13.  0.  0.  0.  0.  0.  5. 16.  8.  0.  0.  0.  0.  0.\n",
            "  13. 16.  3.  0.  0.  0.  0.  0. 14. 13.  0.  0.  0.  0.  0.  0. 15. 12.\n",
            "   7.  2.  0.  0.  0.  0. 13. 16. 13. 16.  3.  0.  0.  0.  7. 16. 11. 15.\n",
            "   8.  0.  0.  0.  1.  9. 15. 11.  3.  0.]\n",
            " [ 0.  0.  7.  8. 13. 16. 15.  1.  0.  0.  7.  7.  4. 11. 12.  0.  0.  0.\n",
            "   0.  0.  8. 13.  1.  0.  0.  4.  8.  8. 15. 15.  6.  0.  0.  2. 11. 15.\n",
            "  15.  4.  0.  0.  0.  0.  0. 16.  5.  0.  0.  0.  0.  0.  9. 15.  1.  0.\n",
            "   0.  0.  0.  0. 13.  5.  0.  0.  0.  0.]\n",
            " [ 0.  0.  9. 14.  8.  1.  0.  0.  0.  0. 12. 14. 14. 12.  0.  0.  0.  0.\n",
            "   9. 10.  0. 15.  4.  0.  0.  0.  3. 16. 12. 14.  2.  0.  0.  0.  4. 16.\n",
            "  16.  2.  0.  0.  0.  3. 16.  8. 10. 13.  2.  0.  0.  1. 15.  1.  3. 16.\n",
            "   8.  0.  0.  0. 11. 16. 15. 11.  1.  0.]\n",
            " [ 0.  0. 11. 12.  0.  0.  0.  0.  0.  2. 16. 16. 16. 13.  0.  0.  0.  3.\n",
            "  16. 12. 10. 14.  0.  0.  0.  1. 16.  1. 12. 15.  0.  0.  0.  0. 13. 16.\n",
            "   9. 15.  2.  0.  0.  0.  0.  3.  0.  9. 11.  0.  0.  0.  0.  0.  9. 15.\n",
            "   4.  0.  0.  0.  9. 12. 13.  3.  0.  0.]]\n"
          ]
        }
      ]
    },
    {
      "cell_type": "markdown",
      "source": [
        "2) Baixar a base de dados wine da ferramenta scikit-learn\n",
        "a) Mostrar os atributos da base de dados\n",
        "\n",
        "b) Informar os tipos dos atributos da base de dados\n",
        "\n",
        "c) Informar o tamanho da base de dados\n",
        "\n",
        "d) Listar as 10 primeiras amostras\n",
        "\n",
        "e) Enviar o script e print com a execução"
      ],
      "metadata": {
        "id": "wn-u21qcsY5L"
      }
    },
    {
      "cell_type": "code",
      "source": [
        "from sklearn.datasets import load_wine\n",
        "\n",
        "\n",
        "wine = load_wine()\n",
        "\n",
        "\n",
        "print(\"Atributos da base de dados:\\n\", list(wine.keys()))\n",
        "\n",
        "\n",
        "print(\"\\nTipos dos atributos: todos numéricos\")\n",
        "\n",
        "\n",
        "n_samples, n_features = wine.data.shape\n",
        "print(f\"\\nTamanho da base de dados:\\nNúmero de amostras: {n_samples}\\nNúmero de atributos: {n_features}\")\n",
        "\n",
        "\n",
        "print(\"\\n10 primeiras amostras:\")\n",
        "print(wine.data[:10])\n"
      ],
      "metadata": {
        "colab": {
          "base_uri": "https://localhost:8080/"
        },
        "id": "ZjF6H1WLsfPL",
        "outputId": "286f755a-33ef-447e-d0b3-b115686670fe"
      },
      "execution_count": null,
      "outputs": [
        {
          "output_type": "stream",
          "name": "stdout",
          "text": [
            "Atributos da base de dados:\n",
            " ['data', 'target', 'frame', 'target_names', 'DESCR', 'feature_names']\n",
            "\n",
            "Tipos dos atributos: todos numéricos\n",
            "\n",
            "Tamanho da base de dados:\n",
            "Número de amostras: 178\n",
            "Número de atributos: 13\n",
            "\n",
            "10 primeiras amostras:\n",
            "[[1.423e+01 1.710e+00 2.430e+00 1.560e+01 1.270e+02 2.800e+00 3.060e+00\n",
            "  2.800e-01 2.290e+00 5.640e+00 1.040e+00 3.920e+00 1.065e+03]\n",
            " [1.320e+01 1.780e+00 2.140e+00 1.120e+01 1.000e+02 2.650e+00 2.760e+00\n",
            "  2.600e-01 1.280e+00 4.380e+00 1.050e+00 3.400e+00 1.050e+03]\n",
            " [1.316e+01 2.360e+00 2.670e+00 1.860e+01 1.010e+02 2.800e+00 3.240e+00\n",
            "  3.000e-01 2.810e+00 5.680e+00 1.030e+00 3.170e+00 1.185e+03]\n",
            " [1.437e+01 1.950e+00 2.500e+00 1.680e+01 1.130e+02 3.850e+00 3.490e+00\n",
            "  2.400e-01 2.180e+00 7.800e+00 8.600e-01 3.450e+00 1.480e+03]\n",
            " [1.324e+01 2.590e+00 2.870e+00 2.100e+01 1.180e+02 2.800e+00 2.690e+00\n",
            "  3.900e-01 1.820e+00 4.320e+00 1.040e+00 2.930e+00 7.350e+02]\n",
            " [1.420e+01 1.760e+00 2.450e+00 1.520e+01 1.120e+02 3.270e+00 3.390e+00\n",
            "  3.400e-01 1.970e+00 6.750e+00 1.050e+00 2.850e+00 1.450e+03]\n",
            " [1.439e+01 1.870e+00 2.450e+00 1.460e+01 9.600e+01 2.500e+00 2.520e+00\n",
            "  3.000e-01 1.980e+00 5.250e+00 1.020e+00 3.580e+00 1.290e+03]\n",
            " [1.406e+01 2.150e+00 2.610e+00 1.760e+01 1.210e+02 2.600e+00 2.510e+00\n",
            "  3.100e-01 1.250e+00 5.050e+00 1.060e+00 3.580e+00 1.295e+03]\n",
            " [1.483e+01 1.640e+00 2.170e+00 1.400e+01 9.700e+01 2.800e+00 2.980e+00\n",
            "  2.900e-01 1.980e+00 5.200e+00 1.080e+00 2.850e+00 1.045e+03]\n",
            " [1.386e+01 1.350e+00 2.270e+00 1.600e+01 9.800e+01 2.980e+00 3.150e+00\n",
            "  2.200e-01 1.850e+00 7.220e+00 1.010e+00 3.550e+00 1.045e+03]]\n"
          ]
        }
      ]
    },
    {
      "cell_type": "markdown",
      "source": [
        "3) Baixar a base de dados \n",
        "\n",
        "Adult Data Set  através da ferramenta Panda\n",
        "URL  https://archive.ics.uci.edu/ml/machine-learning-databases/adult/adult.data\n",
        "\n",
        "\n",
        "\n",
        "a) Informe o tamanho da base de dados\n",
        "\n",
        "b) Listar os atributos da base de dado\n",
        "\n",
        "   Obs. Os nomes dos atributos estão localizados em \n",
        "\n",
        "https://archive.ics.uci.edu/ml/machine-learning-databases/adult/adult.names\n",
        "\n",
        "c) Mostar os tipos de cada atributo\n",
        "\n",
        "d) Enviar o script e print com a execução"
      ],
      "metadata": {
        "id": "9MvbEDjBsf_D"
      }
    },
    {
      "cell_type": "code",
      "source": [
        "import pandas as pd\n",
        "\n",
        "\n",
        "url = \"https://archive.ics.uci.edu/ml/machine-learning-databases/adult/adult.data\"\n",
        "\n",
        "\n",
        "data = pd.read_csv(url, header=None, names=[\n",
        "                   'age', 'workclass', 'fnlwgt', 'education', 'education-num',\n",
        "                   'marital-status', 'occupation', 'relationship', 'race', 'sex',\n",
        "                   'capital-gain', 'capital-loss', 'hours-per-week', 'native-country', 'income'\n",
        "                ])\n",
        "\n",
        "\n",
        "n_samples, n_features = data.shape\n",
        "print(f\"Tamanho da base de dados:\\nNúmero de amostras: {n_samples}\\nNúmero de atributos: {n_features}\")\n",
        "\n",
        "\n",
        "attribute_names = data.columns.tolist()\n",
        "print(\"\\nAtributos da base de dados:\")\n",
        "print(attribute_names)\n",
        "\n",
        "\n",
        "print(\"\\nTipos dos atributos:\")\n",
        "print(data.dtypes)\n"
      ],
      "metadata": {
        "colab": {
          "base_uri": "https://localhost:8080/"
        },
        "id": "G-I11Bscsl8w",
        "outputId": "b1caf0eb-bdb5-4c40-bd29-827bb27357ce"
      },
      "execution_count": null,
      "outputs": [
        {
          "output_type": "stream",
          "name": "stdout",
          "text": [
            "Tamanho da base de dados:\n",
            "Número de amostras: 32561\n",
            "Número de atributos: 15\n",
            "\n",
            "Atributos da base de dados:\n",
            "['age', 'workclass', 'fnlwgt', 'education', 'education-num', 'marital-status', 'occupation', 'relationship', 'race', 'sex', 'capital-gain', 'capital-loss', 'hours-per-week', 'native-country', 'income']\n",
            "\n",
            "Tipos dos atributos:\n",
            "age                int64\n",
            "workclass         object\n",
            "fnlwgt             int64\n",
            "education         object\n",
            "education-num      int64\n",
            "marital-status    object\n",
            "occupation        object\n",
            "relationship      object\n",
            "race              object\n",
            "sex               object\n",
            "capital-gain       int64\n",
            "capital-loss       int64\n",
            "hours-per-week     int64\n",
            "native-country    object\n",
            "income            object\n",
            "dtype: object\n"
          ]
        }
      ]
    }
  ]
}